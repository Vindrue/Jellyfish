{
 "cells": [
  {
   "cell_type": "code",
   "execution_count": 3,
   "id": "6a4d9604-9b2d-41b7-b7a9-2817def7fcb1",
   "metadata": {},
   "outputs": [
    {
     "name": "stderr",
     "output_type": "stream",
     "text": [
      "\u001b[32m\u001b[1m  Activating\u001b[22m\u001b[39m project at `~/Projects/Jellyfish/Jellyfish/Jellyfish.jl`\n"
     ]
    }
   ],
   "source": [
    "include(\"ws.jl\")"
   ]
  },
  {
   "cell_type": "code",
   "execution_count": 9,
   "id": "ae8ee781-b898-4aa4-a586-95c26526e19d",
   "metadata": {},
   "outputs": [],
   "source": [
    "using DataFrames"
   ]
  },
  {
   "cell_type": "code",
   "execution_count": null,
   "id": "e053b1d1-e99b-4a6d-9954-f7a26ca1ef09",
   "metadata": {},
   "outputs": [],
   "source": [
    "df = CSV.read(\"tryk.csv\", DataFrame"
   ]
  },
  {
   "cell_type": "code",
   "execution_count": 8,
   "id": "85b071f7-9211-4dad-a9c6-85b763de6a99",
   "metadata": {},
   "outputs": [
    {
     "name": "stderr",
     "output_type": "stream",
     "text": [
      "\u001b[32m\u001b[1m   Resolving\u001b[22m\u001b[39m package versions...\n",
      "\u001b[32m\u001b[1m   Installed\u001b[22m\u001b[39m InvertedIndices ──── v1.3.1\n",
      "\u001b[32m\u001b[1m   Installed\u001b[22m\u001b[39m Crayons ──────────── v4.1.1\n",
      "\u001b[32m\u001b[1m   Installed\u001b[22m\u001b[39m StringManipulation ─ v0.4.1\n",
      "\u001b[32m\u001b[1m   Installed\u001b[22m\u001b[39m PrettyTables ─────── v2.4.0\n",
      "\u001b[32m\u001b[1m   Installed\u001b[22m\u001b[39m DataFrames ───────── v1.7.0\n",
      "\u001b[32m\u001b[1m    Updating\u001b[22m\u001b[39m `~/Projects/Jellyfish/Jellyfish/Jellyfish.jl/Project.toml`\n",
      "  \u001b[90m[a93c6f00] \u001b[39m\u001b[92m+ DataFrames v1.7.0\u001b[39m\n",
      "\u001b[32m\u001b[1m    Updating\u001b[22m\u001b[39m `~/Projects/Jellyfish/Jellyfish/Jellyfish.jl/Manifest.toml`\n",
      "  \u001b[90m[a8cc5b0e] \u001b[39m\u001b[92m+ Crayons v4.1.1\u001b[39m\n",
      "  \u001b[90m[a93c6f00] \u001b[39m\u001b[92m+ DataFrames v1.7.0\u001b[39m\n",
      "  \u001b[90m[41ab1584] \u001b[39m\u001b[92m+ InvertedIndices v1.3.1\u001b[39m\n",
      "  \u001b[90m[08abe8d2] \u001b[39m\u001b[92m+ PrettyTables v2.4.0\u001b[39m\n",
      "  \u001b[90m[892a3eda] \u001b[39m\u001b[92m+ StringManipulation v0.4.1\u001b[39m\n",
      "\u001b[32m\u001b[1mPrecompiling\u001b[22m\u001b[39m project...\n",
      "\u001b[32m  ✓ \u001b[39m\u001b[90mInvertedIndices\u001b[39m\n",
      "\u001b[32m  ✓ \u001b[39m\u001b[90mCrayons\u001b[39m\n",
      "\u001b[32m  ✓ \u001b[39m\u001b[90mStringManipulation\u001b[39m\n",
      "\u001b[32m  ✓ \u001b[39m\u001b[90mPrettyTables\u001b[39m\n",
      "\u001b[32m  ✓ \u001b[39mDataFrames\n",
      "\u001b[32m  ✓ \u001b[39m\u001b[90mLatexify → DataFramesExt\u001b[39m\n",
      "  6 dependencies successfully precompiled in 30 seconds. 213 already precompiled. 1 skipped during auto due to previous errors.\n"
     ]
    }
   ],
   "source": [
    "import Pkg; Pkg.add(\"DataFrames\")"
   ]
  },
  {
   "cell_type": "code",
   "execution_count": 10,
   "id": "9c8ce5a5-4936-461b-98f6-62255f4f8e30",
   "metadata": {},
   "outputs": [
    {
     "name": "stderr",
     "output_type": "stream",
     "text": [
      "\u001b[32m\u001b[1mPrecompiling\u001b[22m\u001b[39m StrRegex\n",
      "\u001b[36m\u001b[1m        Info\u001b[22m\u001b[39m Given StrRegex was explicitly requested, output will be shown live \u001b[0K\n",
      "\u001b[0K\u001b[91m\u001b[1mERROR: \u001b[22m\u001b[39mLoadError: InitError: could not load library \"libpcre2-16.so.0\"\n",
      "\u001b[0Klibpcre2-16.so.0: cannot open shared object file: No such file or directory\n",
      "\u001b[0KStacktrace:\n",
      "\u001b[0K  [1] \u001b[0m\u001b[1mdlopen\u001b[22m\u001b[0m\u001b[1m(\u001b[22m\u001b[90ms\u001b[39m::\u001b[0mString, \u001b[90mflags\u001b[39m::\u001b[0mUInt32; \u001b[90mthrow_error\u001b[39m::\u001b[0mBool\u001b[0m\u001b[1m)\u001b[22m\n",
      "\u001b[0K\u001b[90m    @\u001b[39m \u001b[90mBase.Libc.Libdl\u001b[39m \u001b[90m./\u001b[39m\u001b[90m\u001b[4mlibdl.jl:117\u001b[24m\u001b[39m\n",
      "\u001b[0K  [2] \u001b[0m\u001b[1mdlopen\u001b[22m\u001b[90m (repeats 2 times)\u001b[39m\n",
      "\u001b[0K\u001b[90m    @\u001b[39m \u001b[90m./\u001b[39m\u001b[90m\u001b[4mlibdl.jl:116\u001b[24m\u001b[39m\u001b[90m [inlined]\u001b[39m\n",
      "\u001b[0K  [3] \u001b[0m\u001b[1m__init__\u001b[22m\u001b[0m\u001b[1m(\u001b[22m\u001b[0m\u001b[1m)\u001b[22m\n",
      "\u001b[0K\u001b[90m    @\u001b[39m \u001b[35mPCRE2\u001b[39m \u001b[90m~/Projects/Jellyfish/.julia/packages/PCRE2/Al15P/src/\u001b[39m\u001b[90m\u001b[4mPCRE2.jl:38\u001b[24m\u001b[39m\n",
      "\u001b[0K  [4] \u001b[0m\u001b[1mrun_module_init\u001b[22m\u001b[0m\u001b[1m(\u001b[22m\u001b[90mmod\u001b[39m::\u001b[0mModule, \u001b[90mi\u001b[39m::\u001b[0mInt64\u001b[0m\u001b[1m)\u001b[22m\n",
      "\u001b[0K\u001b[90m    @\u001b[39m \u001b[90mBase\u001b[39m \u001b[90m./\u001b[39m\u001b[90m\u001b[4mloading.jl:1134\u001b[24m\u001b[39m\n",
      "\u001b[0K  [5] \u001b[0m\u001b[1mregister_restored_modules\u001b[22m\u001b[0m\u001b[1m(\u001b[22m\u001b[90msv\u001b[39m::\u001b[0mCore.SimpleVector, \u001b[90mpkg\u001b[39m::\u001b[0mBase.PkgId, \u001b[90mpath\u001b[39m::\u001b[0mString\u001b[0m\u001b[1m)\u001b[22m\n",
      "\u001b[0K\u001b[90m    @\u001b[39m \u001b[90mBase\u001b[39m \u001b[90m./\u001b[39m\u001b[90m\u001b[4mloading.jl:1122\u001b[24m\u001b[39m\n",
      "\u001b[0K  [6] \u001b[0m\u001b[1m_include_from_serialized\u001b[22m\u001b[0m\u001b[1m(\u001b[22m\u001b[90mpkg\u001b[39m::\u001b[0mBase.PkgId, \u001b[90mpath\u001b[39m::\u001b[0mString, \u001b[90mocachepath\u001b[39m::\u001b[0mString, \u001b[90mdepmods\u001b[39m::\u001b[0mVector\u001b[90m{Any}\u001b[39m\u001b[0m\u001b[1m)\u001b[22m\n",
      "\u001b[0K\u001b[90m    @\u001b[39m \u001b[90mBase\u001b[39m \u001b[90m./\u001b[39m\u001b[90m\u001b[4mloading.jl:1067\u001b[24m\u001b[39m\n",
      "\u001b[0K  [7] \u001b[0m\u001b[1m_require_search_from_serialized\u001b[22m\u001b[0m\u001b[1m(\u001b[22m\u001b[90mpkg\u001b[39m::\u001b[0mBase.PkgId, \u001b[90msourcepath\u001b[39m::\u001b[0mString, \u001b[90mbuild_id\u001b[39m::\u001b[0mUInt128\u001b[0m\u001b[1m)\u001b[22m\n",
      "\u001b[0K\u001b[90m    @\u001b[39m \u001b[90mBase\u001b[39m \u001b[90m./\u001b[39m\u001b[90m\u001b[4mloading.jl:1581\u001b[24m\u001b[39m\n",
      "\u001b[0K  [8] \u001b[0m\u001b[1m_require\u001b[22m\u001b[0m\u001b[1m(\u001b[22m\u001b[90mpkg\u001b[39m::\u001b[0mBase.PkgId, \u001b[90menv\u001b[39m::\u001b[0mString\u001b[0m\u001b[1m)\u001b[22m\n",
      "\u001b[0K\u001b[90m    @\u001b[39m \u001b[90mBase\u001b[39m \u001b[90m./\u001b[39m\u001b[90m\u001b[4mloading.jl:1938\u001b[24m\u001b[39m\n",
      "\u001b[0K  [9] \u001b[0m\u001b[1m__require_prelocked\u001b[22m\u001b[0m\u001b[1m(\u001b[22m\u001b[90muuidkey\u001b[39m::\u001b[0mBase.PkgId, \u001b[90menv\u001b[39m::\u001b[0mString\u001b[0m\u001b[1m)\u001b[22m\n",
      "\u001b[0K\u001b[90m    @\u001b[39m \u001b[90mBase\u001b[39m \u001b[90m./\u001b[39m\u001b[90m\u001b[4mloading.jl:1812\u001b[24m\u001b[39m\n",
      "\u001b[0K [10] \u001b[0m\u001b[1m#invoke_in_world#3\u001b[22m\n",
      "\u001b[0K\u001b[90m    @\u001b[39m \u001b[90m./\u001b[39m\u001b[90m\u001b[4messentials.jl:926\u001b[24m\u001b[39m\u001b[90m [inlined]\u001b[39m\n",
      "\u001b[0K [11] \u001b[0m\u001b[1minvoke_in_world\u001b[22m\n",
      "\u001b[0K\u001b[90m    @\u001b[39m \u001b[90m./\u001b[39m\u001b[90m\u001b[4messentials.jl:923\u001b[24m\u001b[39m\u001b[90m [inlined]\u001b[39m\n",
      "\u001b[0K [12] \u001b[0m\u001b[1m_require_prelocked\u001b[22m\u001b[0m\u001b[1m(\u001b[22m\u001b[90muuidkey\u001b[39m::\u001b[0mBase.PkgId, \u001b[90menv\u001b[39m::\u001b[0mString\u001b[0m\u001b[1m)\u001b[22m\n",
      "\u001b[0K\u001b[90m    @\u001b[39m \u001b[90mBase\u001b[39m \u001b[90m./\u001b[39m\u001b[90m\u001b[4mloading.jl:1803\u001b[24m\u001b[39m\n",
      "\u001b[0K [13] \u001b[0m\u001b[1mmacro expansion\u001b[22m\n",
      "\u001b[0K\u001b[90m    @\u001b[39m \u001b[90m./\u001b[39m\u001b[90m\u001b[4mloading.jl:1790\u001b[24m\u001b[39m\u001b[90m [inlined]\u001b[39m\n",
      "\u001b[0K [14] \u001b[0m\u001b[1mmacro expansion\u001b[22m\n",
      "\u001b[0K\u001b[90m    @\u001b[39m \u001b[90m./\u001b[39m\u001b[90m\u001b[4mlock.jl:267\u001b[24m\u001b[39m\u001b[90m [inlined]\u001b[39m\n",
      "\u001b[0K [15] \u001b[0m\u001b[1m__require\u001b[22m\u001b[0m\u001b[1m(\u001b[22m\u001b[90minto\u001b[39m::\u001b[0mModule, \u001b[90mmod\u001b[39m::\u001b[0mSymbol\u001b[0m\u001b[1m)\u001b[22m\n",
      "\u001b[0K\u001b[90m    @\u001b[39m \u001b[90mBase\u001b[39m \u001b[90m./\u001b[39m\u001b[90m\u001b[4mloading.jl:1753\u001b[24m\u001b[39m\n",
      "\u001b[0K [16] \u001b[0m\u001b[1m#invoke_in_world#3\u001b[22m\n",
      "\u001b[0K\u001b[90m    @\u001b[39m \u001b[90m./\u001b[39m\u001b[90m\u001b[4messentials.jl:926\u001b[24m\u001b[39m\u001b[90m [inlined]\u001b[39m\n",
      "\u001b[0K [17] \u001b[0m\u001b[1minvoke_in_world\u001b[22m\n",
      "\u001b[0K\u001b[90m    @\u001b[39m \u001b[90m./\u001b[39m\u001b[90m\u001b[4messentials.jl:923\u001b[24m\u001b[39m\u001b[90m [inlined]\u001b[39m\n",
      "\u001b[0K [18] \u001b[0m\u001b[1mrequire\u001b[22m\u001b[0m\u001b[1m(\u001b[22m\u001b[90minto\u001b[39m::\u001b[0mModule, \u001b[90mmod\u001b[39m::\u001b[0mSymbol\u001b[0m\u001b[1m)\u001b[22m\n",
      "\u001b[0K\u001b[90m    @\u001b[39m \u001b[90mBase\u001b[39m \u001b[90m./\u001b[39m\u001b[90m\u001b[4mloading.jl:1746\u001b[24m\u001b[39m\n",
      "\u001b[0K [19] \u001b[0m\u001b[1minclude\u001b[22m\n",
      "\u001b[0K\u001b[90m    @\u001b[39m \u001b[90m./\u001b[39m\u001b[90m\u001b[4mBase.jl:495\u001b[24m\u001b[39m\u001b[90m [inlined]\u001b[39m\n",
      "\u001b[0K [20] \u001b[0m\u001b[1minclude_package_for_output\u001b[22m\u001b[0m\u001b[1m(\u001b[22m\u001b[90mpkg\u001b[39m::\u001b[0mBase.PkgId, \u001b[90minput\u001b[39m::\u001b[0mString, \u001b[90mdepot_path\u001b[39m::\u001b[0mVector\u001b[90m{String}\u001b[39m, \u001b[90mdl_load_path\u001b[39m::\u001b[0mVector\u001b[90m{String}\u001b[39m, \u001b[90mload_path\u001b[39m::\u001b[0mVector\u001b[90m{String}\u001b[39m, \u001b[90mconcrete_deps\u001b[39m::\u001b[0mVector\u001b[90m{Pair{Base.PkgId, UInt128}}\u001b[39m, \u001b[90msource\u001b[39m::\u001b[0mNothing\u001b[0m\u001b[1m)\u001b[22m\n",
      "\u001b[0K\u001b[90m    @\u001b[39m \u001b[90mBase\u001b[39m \u001b[90m./\u001b[39m\u001b[90m\u001b[4mloading.jl:2222\u001b[24m\u001b[39m\n",
      "\u001b[0K [21] top-level scope\n",
      "\u001b[0K\u001b[90m    @\u001b[39m \u001b[90m\u001b[4mstdin:3\u001b[24m\u001b[39m\n",
      "\u001b[0Kduring initialization of module PCRE2\n",
      "\u001b[0Kin expression starting at /home/vin/Projects/Jellyfish/.julia/packages/StrRegex/l273o/src/StrRegex.jl:2\n",
      "\u001b[0Kin expression starting at stdin:3\n",
      "\u001b[91m  ✗ \u001b[39mStrRegex\n",
      "  0 dependencies successfully precompiled in 1 seconds. 8 already precompiled.\n",
      "\n"
     ]
    },
    {
     "ename": "LoadError",
     "evalue": "The following 1 direct dependency failed to precompile:\n\nStrRegex [2267b70d-4c4a-5da2-8395-98751c0d506a]\n\nFailed to precompile StrRegex [2267b70d-4c4a-5da2-8395-98751c0d506a] to \"/home/vin/Projects/Jellyfish/.julia/compiled/v1.10/StrRegex/jl_4dpHsk\".\n\u001b[91m\u001b[1mERROR: \u001b[22m\u001b[39mLoadError: InitError: could not load library \"libpcre2-16.so.0\"\nlibpcre2-16.so.0: cannot open shared object file: No such file or directory\nStacktrace:\n  [1] \u001b[0m\u001b[1mdlopen\u001b[22m\u001b[0m\u001b[1m(\u001b[22m\u001b[90ms\u001b[39m::\u001b[0mString, \u001b[90mflags\u001b[39m::\u001b[0mUInt32; \u001b[90mthrow_error\u001b[39m::\u001b[0mBool\u001b[0m\u001b[1m)\u001b[22m\n\u001b[90m    @\u001b[39m \u001b[90mBase.Libc.Libdl\u001b[39m \u001b[90m./\u001b[39m\u001b[90m\u001b[4mlibdl.jl:117\u001b[24m\u001b[39m\n  [2] \u001b[0m\u001b[1mdlopen\u001b[22m\u001b[90m (repeats 2 times)\u001b[39m\n\u001b[90m    @\u001b[39m \u001b[90m./\u001b[39m\u001b[90m\u001b[4mlibdl.jl:116\u001b[24m\u001b[39m\u001b[90m [inlined]\u001b[39m\n  [3] \u001b[0m\u001b[1m__init__\u001b[22m\u001b[0m\u001b[1m(\u001b[22m\u001b[0m\u001b[1m)\u001b[22m\n\u001b[90m    @\u001b[39m \u001b[35mPCRE2\u001b[39m \u001b[90m~/Projects/Jellyfish/.julia/packages/PCRE2/Al15P/src/\u001b[39m\u001b[90m\u001b[4mPCRE2.jl:38\u001b[24m\u001b[39m\n  [4] \u001b[0m\u001b[1mrun_module_init\u001b[22m\u001b[0m\u001b[1m(\u001b[22m\u001b[90mmod\u001b[39m::\u001b[0mModule, \u001b[90mi\u001b[39m::\u001b[0mInt64\u001b[0m\u001b[1m)\u001b[22m\n\u001b[90m    @\u001b[39m \u001b[90mBase\u001b[39m \u001b[90m./\u001b[39m\u001b[90m\u001b[4mloading.jl:1134\u001b[24m\u001b[39m\n  [5] \u001b[0m\u001b[1mregister_restored_modules\u001b[22m\u001b[0m\u001b[1m(\u001b[22m\u001b[90msv\u001b[39m::\u001b[0mCore.SimpleVector, \u001b[90mpkg\u001b[39m::\u001b[0mBase.PkgId, \u001b[90mpath\u001b[39m::\u001b[0mString\u001b[0m\u001b[1m)\u001b[22m\n\u001b[90m    @\u001b[39m \u001b[90mBase\u001b[39m \u001b[90m./\u001b[39m\u001b[90m\u001b[4mloading.jl:1122\u001b[24m\u001b[39m\n  [6] \u001b[0m\u001b[1m_include_from_serialized\u001b[22m\u001b[0m\u001b[1m(\u001b[22m\u001b[90mpkg\u001b[39m::\u001b[0mBase.PkgId, \u001b[90mpath\u001b[39m::\u001b[0mString, \u001b[90mocachepath\u001b[39m::\u001b[0mString, \u001b[90mdepmods\u001b[39m::\u001b[0mVector\u001b[90m{Any}\u001b[39m\u001b[0m\u001b[1m)\u001b[22m\n\u001b[90m    @\u001b[39m \u001b[90mBase\u001b[39m \u001b[90m./\u001b[39m\u001b[90m\u001b[4mloading.jl:1067\u001b[24m\u001b[39m\n  [7] \u001b[0m\u001b[1m_require_search_from_serialized\u001b[22m\u001b[0m\u001b[1m(\u001b[22m\u001b[90mpkg\u001b[39m::\u001b[0mBase.PkgId, \u001b[90msourcepath\u001b[39m::\u001b[0mString, \u001b[90mbuild_id\u001b[39m::\u001b[0mUInt128\u001b[0m\u001b[1m)\u001b[22m\n\u001b[90m    @\u001b[39m \u001b[90mBase\u001b[39m \u001b[90m./\u001b[39m\u001b[90m\u001b[4mloading.jl:1581\u001b[24m\u001b[39m\n  [8] \u001b[0m\u001b[1m_require\u001b[22m\u001b[0m\u001b[1m(\u001b[22m\u001b[90mpkg\u001b[39m::\u001b[0mBase.PkgId, \u001b[90menv\u001b[39m::\u001b[0mString\u001b[0m\u001b[1m)\u001b[22m\n\u001b[90m    @\u001b[39m \u001b[90mBase\u001b[39m \u001b[90m./\u001b[39m\u001b[90m\u001b[4mloading.jl:1938\u001b[24m\u001b[39m\n  [9] \u001b[0m\u001b[1m__require_prelocked\u001b[22m\u001b[0m\u001b[1m(\u001b[22m\u001b[90muuidkey\u001b[39m::\u001b[0mBase.PkgId, \u001b[90menv\u001b[39m::\u001b[0mString\u001b[0m\u001b[1m)\u001b[22m\n\u001b[90m    @\u001b[39m \u001b[90mBase\u001b[39m \u001b[90m./\u001b[39m\u001b[90m\u001b[4mloading.jl:1812\u001b[24m\u001b[39m\n [10] \u001b[0m\u001b[1m#invoke_in_world#3\u001b[22m\n\u001b[90m    @\u001b[39m \u001b[90m./\u001b[39m\u001b[90m\u001b[4messentials.jl:926\u001b[24m\u001b[39m\u001b[90m [inlined]\u001b[39m\n [11] \u001b[0m\u001b[1minvoke_in_world\u001b[22m\n\u001b[90m    @\u001b[39m \u001b[90m./\u001b[39m\u001b[90m\u001b[4messentials.jl:923\u001b[24m\u001b[39m\u001b[90m [inlined]\u001b[39m\n [12] \u001b[0m\u001b[1m_require_prelocked\u001b[22m\u001b[0m\u001b[1m(\u001b[22m\u001b[90muuidkey\u001b[39m::\u001b[0mBase.PkgId, \u001b[90menv\u001b[39m::\u001b[0mString\u001b[0m\u001b[1m)\u001b[22m\n\u001b[90m    @\u001b[39m \u001b[90mBase\u001b[39m \u001b[90m./\u001b[39m\u001b[90m\u001b[4mloading.jl:1803\u001b[24m\u001b[39m\n [13] \u001b[0m\u001b[1mmacro expansion\u001b[22m\n\u001b[90m    @\u001b[39m \u001b[90m./\u001b[39m\u001b[90m\u001b[4mloading.jl:1790\u001b[24m\u001b[39m\u001b[90m [inlined]\u001b[39m\n [14] \u001b[0m\u001b[1mmacro expansion\u001b[22m\n\u001b[90m    @\u001b[39m \u001b[90m./\u001b[39m\u001b[90m\u001b[4mlock.jl:267\u001b[24m\u001b[39m\u001b[90m [inlined]\u001b[39m\n [15] \u001b[0m\u001b[1m__require\u001b[22m\u001b[0m\u001b[1m(\u001b[22m\u001b[90minto\u001b[39m::\u001b[0mModule, \u001b[90mmod\u001b[39m::\u001b[0mSymbol\u001b[0m\u001b[1m)\u001b[22m\n\u001b[90m    @\u001b[39m \u001b[90mBase\u001b[39m \u001b[90m./\u001b[39m\u001b[90m\u001b[4mloading.jl:1753\u001b[24m\u001b[39m\n [16] \u001b[0m\u001b[1m#invoke_in_world#3\u001b[22m\n\u001b[90m    @\u001b[39m \u001b[90m./\u001b[39m\u001b[90m\u001b[4messentials.jl:926\u001b[24m\u001b[39m\u001b[90m [inlined]\u001b[39m\n [17] \u001b[0m\u001b[1minvoke_in_world\u001b[22m\n\u001b[90m    @\u001b[39m \u001b[90m./\u001b[39m\u001b[90m\u001b[4messentials.jl:923\u001b[24m\u001b[39m\u001b[90m [inlined]\u001b[39m\n [18] \u001b[0m\u001b[1mrequire\u001b[22m\u001b[0m\u001b[1m(\u001b[22m\u001b[90minto\u001b[39m::\u001b[0mModule, \u001b[90mmod\u001b[39m::\u001b[0mSymbol\u001b[0m\u001b[1m)\u001b[22m\n\u001b[90m    @\u001b[39m \u001b[90mBase\u001b[39m \u001b[90m./\u001b[39m\u001b[90m\u001b[4mloading.jl:1746\u001b[24m\u001b[39m\n [19] \u001b[0m\u001b[1minclude\u001b[22m\n\u001b[90m    @\u001b[39m \u001b[90m./\u001b[39m\u001b[90m\u001b[4mBase.jl:495\u001b[24m\u001b[39m\u001b[90m [inlined]\u001b[39m\n [20] \u001b[0m\u001b[1minclude_package_for_output\u001b[22m\u001b[0m\u001b[1m(\u001b[22m\u001b[90mpkg\u001b[39m::\u001b[0mBase.PkgId, \u001b[90minput\u001b[39m::\u001b[0mString, \u001b[90mdepot_path\u001b[39m::\u001b[0mVector\u001b[90m{String}\u001b[39m, \u001b[90mdl_load_path\u001b[39m::\u001b[0mVector\u001b[90m{String}\u001b[39m, \u001b[90mload_path\u001b[39m::\u001b[0mVector\u001b[90m{String}\u001b[39m, \u001b[90mconcrete_deps\u001b[39m::\u001b[0mVector\u001b[90m{Pair{Base.PkgId, UInt128}}\u001b[39m, \u001b[90msource\u001b[39m::\u001b[0mNothing\u001b[0m\u001b[1m)\u001b[22m\n\u001b[90m    @\u001b[39m \u001b[90mBase\u001b[39m \u001b[90m./\u001b[39m\u001b[90m\u001b[4mloading.jl:2222\u001b[24m\u001b[39m\n [21] top-level scope\n\u001b[90m    @\u001b[39m \u001b[90m\u001b[4mstdin:3\u001b[24m\u001b[39m\nduring initialization of module PCRE2\nin expression starting at /home/vin/Projects/Jellyfish/.julia/packages/StrRegex/l273o/src/StrRegex.jl:2\nin expression starting at stdin:",
     "output_type": "error",
     "traceback": [
      "The following 1 direct dependency failed to precompile:\n\nStrRegex [2267b70d-4c4a-5da2-8395-98751c0d506a]\n\nFailed to precompile StrRegex [2267b70d-4c4a-5da2-8395-98751c0d506a] to \"/home/vin/Projects/Jellyfish/.julia/compiled/v1.10/StrRegex/jl_4dpHsk\".\n\u001b[91m\u001b[1mERROR: \u001b[22m\u001b[39mLoadError: InitError: could not load library \"libpcre2-16.so.0\"\nlibpcre2-16.so.0: cannot open shared object file: No such file or directory\nStacktrace:\n  [1] \u001b[0m\u001b[1mdlopen\u001b[22m\u001b[0m\u001b[1m(\u001b[22m\u001b[90ms\u001b[39m::\u001b[0mString, \u001b[90mflags\u001b[39m::\u001b[0mUInt32; \u001b[90mthrow_error\u001b[39m::\u001b[0mBool\u001b[0m\u001b[1m)\u001b[22m\n\u001b[90m    @\u001b[39m \u001b[90mBase.Libc.Libdl\u001b[39m \u001b[90m./\u001b[39m\u001b[90m\u001b[4mlibdl.jl:117\u001b[24m\u001b[39m\n  [2] \u001b[0m\u001b[1mdlopen\u001b[22m\u001b[90m (repeats 2 times)\u001b[39m\n\u001b[90m    @\u001b[39m \u001b[90m./\u001b[39m\u001b[90m\u001b[4mlibdl.jl:116\u001b[24m\u001b[39m\u001b[90m [inlined]\u001b[39m\n  [3] \u001b[0m\u001b[1m__init__\u001b[22m\u001b[0m\u001b[1m(\u001b[22m\u001b[0m\u001b[1m)\u001b[22m\n\u001b[90m    @\u001b[39m \u001b[35mPCRE2\u001b[39m \u001b[90m~/Projects/Jellyfish/.julia/packages/PCRE2/Al15P/src/\u001b[39m\u001b[90m\u001b[4mPCRE2.jl:38\u001b[24m\u001b[39m\n  [4] \u001b[0m\u001b[1mrun_module_init\u001b[22m\u001b[0m\u001b[1m(\u001b[22m\u001b[90mmod\u001b[39m::\u001b[0mModule, \u001b[90mi\u001b[39m::\u001b[0mInt64\u001b[0m\u001b[1m)\u001b[22m\n\u001b[90m    @\u001b[39m \u001b[90mBase\u001b[39m \u001b[90m./\u001b[39m\u001b[90m\u001b[4mloading.jl:1134\u001b[24m\u001b[39m\n  [5] \u001b[0m\u001b[1mregister_restored_modules\u001b[22m\u001b[0m\u001b[1m(\u001b[22m\u001b[90msv\u001b[39m::\u001b[0mCore.SimpleVector, \u001b[90mpkg\u001b[39m::\u001b[0mBase.PkgId, \u001b[90mpath\u001b[39m::\u001b[0mString\u001b[0m\u001b[1m)\u001b[22m\n\u001b[90m    @\u001b[39m \u001b[90mBase\u001b[39m \u001b[90m./\u001b[39m\u001b[90m\u001b[4mloading.jl:1122\u001b[24m\u001b[39m\n  [6] \u001b[0m\u001b[1m_include_from_serialized\u001b[22m\u001b[0m\u001b[1m(\u001b[22m\u001b[90mpkg\u001b[39m::\u001b[0mBase.PkgId, \u001b[90mpath\u001b[39m::\u001b[0mString, \u001b[90mocachepath\u001b[39m::\u001b[0mString, \u001b[90mdepmods\u001b[39m::\u001b[0mVector\u001b[90m{Any}\u001b[39m\u001b[0m\u001b[1m)\u001b[22m\n\u001b[90m    @\u001b[39m \u001b[90mBase\u001b[39m \u001b[90m./\u001b[39m\u001b[90m\u001b[4mloading.jl:1067\u001b[24m\u001b[39m\n  [7] \u001b[0m\u001b[1m_require_search_from_serialized\u001b[22m\u001b[0m\u001b[1m(\u001b[22m\u001b[90mpkg\u001b[39m::\u001b[0mBase.PkgId, \u001b[90msourcepath\u001b[39m::\u001b[0mString, \u001b[90mbuild_id\u001b[39m::\u001b[0mUInt128\u001b[0m\u001b[1m)\u001b[22m\n\u001b[90m    @\u001b[39m \u001b[90mBase\u001b[39m \u001b[90m./\u001b[39m\u001b[90m\u001b[4mloading.jl:1581\u001b[24m\u001b[39m\n  [8] \u001b[0m\u001b[1m_require\u001b[22m\u001b[0m\u001b[1m(\u001b[22m\u001b[90mpkg\u001b[39m::\u001b[0mBase.PkgId, \u001b[90menv\u001b[39m::\u001b[0mString\u001b[0m\u001b[1m)\u001b[22m\n\u001b[90m    @\u001b[39m \u001b[90mBase\u001b[39m \u001b[90m./\u001b[39m\u001b[90m\u001b[4mloading.jl:1938\u001b[24m\u001b[39m\n  [9] \u001b[0m\u001b[1m__require_prelocked\u001b[22m\u001b[0m\u001b[1m(\u001b[22m\u001b[90muuidkey\u001b[39m::\u001b[0mBase.PkgId, \u001b[90menv\u001b[39m::\u001b[0mString\u001b[0m\u001b[1m)\u001b[22m\n\u001b[90m    @\u001b[39m \u001b[90mBase\u001b[39m \u001b[90m./\u001b[39m\u001b[90m\u001b[4mloading.jl:1812\u001b[24m\u001b[39m\n [10] \u001b[0m\u001b[1m#invoke_in_world#3\u001b[22m\n\u001b[90m    @\u001b[39m \u001b[90m./\u001b[39m\u001b[90m\u001b[4messentials.jl:926\u001b[24m\u001b[39m\u001b[90m [inlined]\u001b[39m\n [11] \u001b[0m\u001b[1minvoke_in_world\u001b[22m\n\u001b[90m    @\u001b[39m \u001b[90m./\u001b[39m\u001b[90m\u001b[4messentials.jl:923\u001b[24m\u001b[39m\u001b[90m [inlined]\u001b[39m\n [12] \u001b[0m\u001b[1m_require_prelocked\u001b[22m\u001b[0m\u001b[1m(\u001b[22m\u001b[90muuidkey\u001b[39m::\u001b[0mBase.PkgId, \u001b[90menv\u001b[39m::\u001b[0mString\u001b[0m\u001b[1m)\u001b[22m\n\u001b[90m    @\u001b[39m \u001b[90mBase\u001b[39m \u001b[90m./\u001b[39m\u001b[90m\u001b[4mloading.jl:1803\u001b[24m\u001b[39m\n [13] \u001b[0m\u001b[1mmacro expansion\u001b[22m\n\u001b[90m    @\u001b[39m \u001b[90m./\u001b[39m\u001b[90m\u001b[4mloading.jl:1790\u001b[24m\u001b[39m\u001b[90m [inlined]\u001b[39m\n [14] \u001b[0m\u001b[1mmacro expansion\u001b[22m\n\u001b[90m    @\u001b[39m \u001b[90m./\u001b[39m\u001b[90m\u001b[4mlock.jl:267\u001b[24m\u001b[39m\u001b[90m [inlined]\u001b[39m\n [15] \u001b[0m\u001b[1m__require\u001b[22m\u001b[0m\u001b[1m(\u001b[22m\u001b[90minto\u001b[39m::\u001b[0mModule, \u001b[90mmod\u001b[39m::\u001b[0mSymbol\u001b[0m\u001b[1m)\u001b[22m\n\u001b[90m    @\u001b[39m \u001b[90mBase\u001b[39m \u001b[90m./\u001b[39m\u001b[90m\u001b[4mloading.jl:1753\u001b[24m\u001b[39m\n [16] \u001b[0m\u001b[1m#invoke_in_world#3\u001b[22m\n\u001b[90m    @\u001b[39m \u001b[90m./\u001b[39m\u001b[90m\u001b[4messentials.jl:926\u001b[24m\u001b[39m\u001b[90m [inlined]\u001b[39m\n [17] \u001b[0m\u001b[1minvoke_in_world\u001b[22m\n\u001b[90m    @\u001b[39m \u001b[90m./\u001b[39m\u001b[90m\u001b[4messentials.jl:923\u001b[24m\u001b[39m\u001b[90m [inlined]\u001b[39m\n [18] \u001b[0m\u001b[1mrequire\u001b[22m\u001b[0m\u001b[1m(\u001b[22m\u001b[90minto\u001b[39m::\u001b[0mModule, \u001b[90mmod\u001b[39m::\u001b[0mSymbol\u001b[0m\u001b[1m)\u001b[22m\n\u001b[90m    @\u001b[39m \u001b[90mBase\u001b[39m \u001b[90m./\u001b[39m\u001b[90m\u001b[4mloading.jl:1746\u001b[24m\u001b[39m\n [19] \u001b[0m\u001b[1minclude\u001b[22m\n\u001b[90m    @\u001b[39m \u001b[90m./\u001b[39m\u001b[90m\u001b[4mBase.jl:495\u001b[24m\u001b[39m\u001b[90m [inlined]\u001b[39m\n [20] \u001b[0m\u001b[1minclude_package_for_output\u001b[22m\u001b[0m\u001b[1m(\u001b[22m\u001b[90mpkg\u001b[39m::\u001b[0mBase.PkgId, \u001b[90minput\u001b[39m::\u001b[0mString, \u001b[90mdepot_path\u001b[39m::\u001b[0mVector\u001b[90m{String}\u001b[39m, \u001b[90mdl_load_path\u001b[39m::\u001b[0mVector\u001b[90m{String}\u001b[39m, \u001b[90mload_path\u001b[39m::\u001b[0mVector\u001b[90m{String}\u001b[39m, \u001b[90mconcrete_deps\u001b[39m::\u001b[0mVector\u001b[90m{Pair{Base.PkgId, UInt128}}\u001b[39m, \u001b[90msource\u001b[39m::\u001b[0mNothing\u001b[0m\u001b[1m)\u001b[22m\n\u001b[90m    @\u001b[39m \u001b[90mBase\u001b[39m \u001b[90m./\u001b[39m\u001b[90m\u001b[4mloading.jl:2222\u001b[24m\u001b[39m\n [21] top-level scope\n\u001b[90m    @\u001b[39m \u001b[90m\u001b[4mstdin:3\u001b[24m\u001b[39m\nduring initialization of module PCRE2\nin expression starting at /home/vin/Projects/Jellyfish/.julia/packages/StrRegex/l273o/src/StrRegex.jl:2\nin expression starting at stdin:",
      "",
      "Stacktrace:",
      "  [1] pkgerror(msg::String)",
      "    @ Pkg.Types /nix/store/7hwy151mdh0vlw3shjiv5if3g5n7ahnd-julia-1.10.3/share/julia/stdlib/v1.10/Pkg/src/Types.jl:70",
      "  [2] precompile(ctx::Pkg.Types.Context, pkgs::Vector{Pkg.Types.PackageSpec}; internal_call::Bool, strict::Bool, warn_loaded::Bool, already_instantiated::Bool, timing::Bool, _from_loading::Bool, kwargs::@Kwargs{io::IJulia.IJuliaStdio{Base.PipeEndpoint}})",
      "    @ Pkg.API /nix/store/7hwy151mdh0vlw3shjiv5if3g5n7ahnd-julia-1.10.3/share/julia/stdlib/v1.10/Pkg/src/API.jl:1659",
      "  [3] precompile(pkgs::Vector{Pkg.Types.PackageSpec}; io::IJulia.IJuliaStdio{Base.PipeEndpoint}, kwargs::@Kwargs{_from_loading::Bool})",
      "    @ Pkg.API /nix/store/7hwy151mdh0vlw3shjiv5if3g5n7ahnd-julia-1.10.3/share/julia/stdlib/v1.10/Pkg/src/API.jl:159",
      "  [4] precompile",
      "    @ /nix/store/7hwy151mdh0vlw3shjiv5if3g5n7ahnd-julia-1.10.3/share/julia/stdlib/v1.10/Pkg/src/API.jl:147 [inlined]",
      "  [5] #precompile#114",
      "    @ /nix/store/7hwy151mdh0vlw3shjiv5if3g5n7ahnd-julia-1.10.3/share/julia/stdlib/v1.10/Pkg/src/API.jl:146 [inlined]",
      "  [6] #invokelatest#2",
      "    @ ./essentials.jl:894 [inlined]",
      "  [7] invokelatest",
      "    @ ./essentials.jl:889 [inlined]",
      "  [8] _require(pkg::Base.PkgId, env::String)",
      "    @ Base ./loading.jl:1963",
      "  [9] __require_prelocked(uuidkey::Base.PkgId, env::String)",
      "    @ Base ./loading.jl:1812",
      " [10] #invoke_in_world#3",
      "    @ ./essentials.jl:926 [inlined]",
      " [11] invoke_in_world",
      "    @ ./essentials.jl:923 [inlined]",
      " [12] _require_prelocked(uuidkey::Base.PkgId, env::String)",
      "    @ Base ./loading.jl:1803",
      " [13] macro expansion",
      "    @ ./loading.jl:1790 [inlined]",
      " [14] macro expansion",
      "    @ ./lock.jl:267 [inlined]",
      " [15] __require(into::Module, mod::Symbol)",
      "    @ Base ./loading.jl:1753",
      " [16] #invoke_in_world#3",
      "    @ ./essentials.jl:926 [inlined]",
      " [17] invoke_in_world",
      "    @ ./essentials.jl:923 [inlined]",
      " [18] require(into::Module, mod::Symbol)",
      "    @ Base ./loading.jl:1746"
     ]
    }
   ],
   "source": [
    "using StrRegex"
   ]
  },
  {
   "cell_type": "code",
   "execution_count": null,
   "id": "473f4426-d476-4394-95dc-3bec738584c5",
   "metadata": {},
   "outputs": [],
   "source": []
  }
 ],
 "metadata": {
  "kernelspec": {
   "display_name": "Julia 1.10.3",
   "language": "julia",
   "name": "julia-1.10"
  },
  "language_info": {
   "file_extension": ".jl",
   "mimetype": "application/julia",
   "name": "julia",
   "version": "1.10.3"
  }
 },
 "nbformat": 4,
 "nbformat_minor": 5
}
