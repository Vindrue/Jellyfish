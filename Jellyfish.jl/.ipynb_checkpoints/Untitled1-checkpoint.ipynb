{
 "cells": [
  {
   "cell_type": "code",
   "execution_count": 25,
   "id": "05e46442-5096-48fd-9e67-9c0fdc99cbbd",
   "metadata": {},
   "outputs": [
    {
     "name": "stderr",
     "output_type": "stream",
     "text": [
      "\u001b[32m\u001b[1m  Activating\u001b[22m\u001b[39m project at `~/Projects/Jellyfish/Jellyfish/Jellyfish.jl`\n"
     ]
    }
   ],
   "source": [
    "include(\"ws.jl\")"
   ]
  },
  {
   "cell_type": "code",
   "execution_count": 8,
   "id": "c14bcae9-f7cc-4cf8-9c62-935c79b273b8",
   "metadata": {},
   "outputs": [],
   "source": [
    "using Plots\n",
    "using LsqFit\n",
    "using Statistics"
   ]
  },
  {
   "cell_type": "code",
   "execution_count": 5,
   "id": "54376c64-bccd-460c-b9f6-618785d039ca",
   "metadata": {},
   "outputs": [
    {
     "data": {
      "text/plain": [
       "9.82"
      ]
     },
     "execution_count": 5,
     "metadata": {},
     "output_type": "execute_result"
    }
   ],
   "source": [
    "g = 9.82"
   ]
  },
  {
   "cell_type": "code",
   "execution_count": 13,
   "id": "440833a9-c266-4c33-9ca8-63ce5293c3f1",
   "metadata": {},
   "outputs": [],
   "source": [
    "ΔT_1 = [24.7, 25.5, 26.4, 26.9, 27.5, 27.8, 28.2]\n",
    "ΔT_2 = [24.7, 25.5, 26.4, 27.1, 27.5, 27.9, 28.2]\n",
    "ΔT_3 = [24.2, 25.1, 26.0, 26.6, 27.1, 27.4, 27.8]\n",
    "M = [0, 20, 40, 60, 80, 100, 120] .|> float;"
   ]
  },
  {
   "cell_type": "code",
   "execution_count": 7,
   "id": "0d8cc72e-6ae8-4f72-a84a-59ced91ca679",
   "metadata": {},
   "outputs": [],
   "source": [
    "function adiabatΔT(M, params)\n",
    "    α = params[1]\n",
    "\n",
    "    return α.*M\n",
    "end\n",
    "\n",
    "function lossΔT(M, params)\n",
    "    α = params[1]\n",
    "    β = params[2]\n",
    "\n",
    "    return (α.*M)./(β.*M.+1)\n",
    "end;"
   ]
  },
  {
   "cell_type": "code",
   "execution_count": 14,
   "id": "a882a356-9445-4f8a-a8d5-f3147fcb549b",
   "metadata": {},
   "outputs": [],
   "source": [
    "ΔT = []; ΔT_Δ = [];\n",
    "for i in 1:length(ΔT_1)\n",
    "    col = [ΔT_1[i], ΔT_2[i], ΔT_3[i]]\n",
    "    \n",
    "    push!(ΔT, mean(col))\n",
    "\n",
    "    push!(ΔT_Δ, sem(std(col), 3))\n",
    "end"
   ]
  },
  {
   "cell_type": "code",
   "execution_count": 23,
   "id": "3c336494-c63a-4f25-bb1b-514b2d08816e",
   "metadata": {},
   "outputs": [],
   "source": [
    "adiabatfit = curve_fit(adiabatΔT, M, ΔT, [1.0]     )\n",
    "lossfit    = curve_fit(lossΔT   , M, ΔT, [1.0, 1.0]);"
   ]
  },
  {
   "cell_type": "code",
   "execution_count": 24,
   "id": "d65bd6e7-09ee-4b81-b99a-483200c2af20",
   "metadata": {},
   "outputs": [
    {
     "data": {
      "text/plain": [
       "1-element Vector{Float64}:\n",
       " 0.07802252152364492"
      ]
     },
     "execution_count": 24,
     "metadata": {},
     "output_type": "execute_result"
    }
   ],
   "source": [
    "adiabatfit.param\n",
    "LsqFit.stderror(adiabatfit)"
   ]
  },
  {
   "cell_type": "code",
   "execution_count": null,
   "id": "e987787d-1807-42aa-a494-e15659a56869",
   "metadata": {},
   "outputs": [],
   "source": []
  }
 ],
 "metadata": {
  "kernelspec": {
   "display_name": "Julia 1.10.3",
   "language": "julia",
   "name": "julia-1.10"
  },
  "language_info": {
   "file_extension": ".jl",
   "mimetype": "application/julia",
   "name": "julia",
   "version": "1.10.3"
  }
 },
 "nbformat": 4,
 "nbformat_minor": 5
}
